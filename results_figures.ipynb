{
 "cells": [
  {
   "cell_type": "code",
   "execution_count": null,
   "metadata": {},
   "outputs": [],
   "source": [
    "from google.colab import drive\n",
    "drive.mount('/content/drive')"
   ]
  },
  {
   "cell_type": "code",
   "execution_count": null,
   "metadata": {},
   "outputs": [],
   "source": [
    "import numpy as np\n",
    "import matplotlib.pyplot as plt\n",
    "import seaborn as sns\n",
    "figure_path = '/content/drive/MyDrive/QMUL/NN/figures/' "
   ]
  },
  {
   "cell_type": "code",
   "execution_count": null,
   "metadata": {},
   "outputs": [],
   "source": [
    "base_cnn_t = np.load('/content/drive/MyDrive/QMUL/NN/code/result/base_CNN_train.npy')\n",
    "base_cnn_v = np.load('/content/drive/MyDrive/QMUL/NN/code/result/base_CNN_val.npy')\n",
    "base_cnn_do_t = np.load('/content/drive/MyDrive/QMUL/NN/code/result/base_CNN_dropout_train.npy')\n",
    "base_cnn_do_v = np.load('/content/drive/MyDrive/QMUL/NN/code/result/base_CNN_dropout_val.npy')\n",
    "epochs = np.arange(1,len(base_cnn_t)+1)\n",
    "sns.set()\n",
    "sns.set_style(\"ticks\")\n",
    "fig, ax = plt.subplots() \n",
    "ax.plot(epochs,base_cnn_t, label = 'Baseline, training', linestyle=\"dashed\") \n",
    "ax.plot(epochs,base_cnn_v, label = 'Baseline, validation') \n",
    "ax.plot(epochs,base_cnn_do_t, label = 'Baseline + dropout,training', linestyle=\"dashed\") \n",
    "ax.plot(epochs,base_cnn_do_v, label = 'Baseline + dropout,validation') \n",
    "ax.set(xlabel ='epochs',ylabel='accuracy rate', xlim=(0,epochs[-1]),ylim=(0.2,0.9))\n",
    "sns.despine()\n",
    "ax.legend(loc='lower right', frameon = False)\n",
    "plt.savefig(figure_path+'1_baseline_CNN')"
   ]
  },
  {
   "cell_type": "code",
   "execution_count": null,
   "metadata": {},
   "outputs": [],
   "source": [
    "ResNet12_t = np.load('/content/drive/MyDrive/QMUL/NN/code/result/ResNet12_train.npy')\n",
    "ResNet12_v = np.load('/content/drive/MyDrive/QMUL/NN/code/result/ResNet12_val.npy')\n",
    "epochs = np.arange(1,len(ResNet12_t)+1)\n",
    "sns.set()\n",
    "sns.set_style(\"ticks\")\n",
    "fig, ax = plt.subplots() \n",
    "ax.plot(epochs,ResNet12_t, label = 'training', linestyle=\"dashed\") \n",
    "ax.plot(epochs,ResNet12_v, label = 'validation') \n",
    "ax.set(xlabel ='epochs',ylabel='accuracy rate', xlim=(0,epochs[-1]),ylim=(0.2,0.8))\n",
    "sns.despine()\n",
    "ax.legend(loc='lower right', frameon = False)\n",
    "plt.savefig(figure_path+'2_ResNet12')"
   ]
  },
  {
   "cell_type": "code",
   "execution_count": null,
   "metadata": {},
   "outputs": [],
   "source": [
    "ResNet34_t = np.load('/content/drive/MyDrive/QMUL/NN/code/result/ResNet34_train.npy')\n",
    "ResNet34_v = np.load('/content/drive/MyDrive/QMUL/NN/code/result/ResNet34_val.npy')\n",
    "epochs = np.arange(1,len(ResNet34_t)+1)\n",
    "sns.set()\n",
    "sns.set_style(\"ticks\")\n",
    "fig, ax = plt.subplots() \n",
    "ax.plot(epochs,ResNet34_t, label = 'training', linestyle=\"dashed\") \n",
    "ax.plot(epochs,ResNet34_v, label = 'validation') \n",
    "ax.set(xlabel ='epochs',ylabel='accuracy rate', xlim=(0,epochs[-1]),ylim=(0.2,0.8))\n",
    "sns.despine()\n",
    "ax.legend(loc='lower right', frameon = False)\n",
    "plt.savefig(figure_path+'3_ResNet34')"
   ]
  }
 ],
 "metadata": {
  "interpreter": {
   "hash": "3bf276b1c127e6bbf64b008bab26aaef922034c145aaea16e2a76901e8028d8b"
  },
  "kernelspec": {
   "display_name": "Python 3.9.7 ('qmul')",
   "language": "python",
   "name": "python3"
  },
  "language_info": {
   "name": "python",
   "version": "3.9.7"
  },
  "orig_nbformat": 4
 },
 "nbformat": 4,
 "nbformat_minor": 2
}
